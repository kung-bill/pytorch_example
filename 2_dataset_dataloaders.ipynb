{
 "cells": [
  {
   "cell_type": "markdown",
   "id": "690695d0-904b-4ebb-aedf-a1f23cbfd261",
   "metadata": {},
   "source": [
    "## DATASET & DATALOADERS\n",
    "主要是做資料前處理相關的範例，pytorch相關的主要類別有以下兩個：\n",
    "* torch.utils.data.Dataset\n",
    "* torch.utils.data.DataLoader\n",
    "DataLoader是Dataset的包裝，用來迭代的拿到Dataset裡面的資料"
   ]
  },
  {
   "cell_type": "markdown",
   "id": "e427bc90-29bc-4b38-9450-50d29049d59d",
   "metadata": {},
   "source": [
    "### Loading a Dataset\n",
    "我們這裡用 Fashion-MNIST dataset, Fashion-MNIST有60000 training examples 與 10000個test examples.\n",
    "每個圖片都是28x28pixel 的黑白影像，共有十個不同的類別\n",
    "讀取FashionMNIST Dataset有以下幾個主要的參數\n",
    "* **root**\n",
    "* **train**\n",
    "* **download=True**\n",
    "* **transform** and **target_transform**"
   ]
  },
  {
   "cell_type": "code",
   "execution_count": 2,
   "id": "2cb1e5b0-c92c-452a-a34f-350aa1a509af",
   "metadata": {},
   "outputs": [],
   "source": [
    "import torch\n",
    "from torch.utils.data import Dataset\n",
    "from torchvision import datasets\n",
    "from torchvision.transforms import ToTensor\n",
    "import matplotlib.pyplot as plt\n",
    "\n",
    "training_data = datasets.FashionMNIST(\n",
    "    root = \"data\",\n",
    "    train=True,\n",
    "    download=True,\n",
    "    transform=ToTensor()\n",
    ")\n",
    "\n",
    "testing_data = datasets.FashionMNIST(\n",
    "    root = \"data\",\n",
    "    train = False,\n",
    "    download = True,\n",
    "    transform = ToTensor()\n",
    ")"
   ]
  },
  {
   "cell_type": "markdown",
   "id": "2ef66c06-7cf8-4f55-8714-5819a25b33c4",
   "metadata": {},
   "source": [
    "### Iterating and Visualizing the Dataset"
   ]
  },
  {
   "cell_type": "code",
   "execution_count": 3,
   "id": "08cc1bf1-b160-4d00-b43d-549f99ac0940",
   "metadata": {},
   "outputs": [
    {
     "data": {
      "image/png": "[encoded data removed]",
      "text/plain": [
       "<Figure size 576x576 with 9 Axes>"
      ]
     },
     "metadata": {
      "needs_background": "light"
     },
     "output_type": "display_data"
    }
   ],
   "source": [
    "labels_map = {\n",
    "    0: \"T-Shirt\",\n",
    "    1: \"Trouser\",\n",
    "    2: \"Pullover\",\n",
    "    3: \"Dress\",\n",
    "    4: \"Coat\",\n",
    "    5: \"Sandal\",\n",
    "    6: \"Shirt\",\n",
    "    7: \"Sneaker\",\n",
    "    8: \"Bag\",\n",
    "    9: \"Ankle Boot\",\n",
    "}\n",
    "figure = plt.figure(figsize = (8, 8))\n",
    "cols, rows = 3, 3\n",
    "#randomly 選9個並且show出來\n",
    "for i in range(1, cols * rows + 1):\n",
    "    sample_idx = torch.randint(len(training_data), size=(1,)).item()\n",
    "    img, label = training_data[sample_idx]\n",
    "    figure.add_subplot(rows, cols, i)\n",
    "    plt.title(labels_map[label])\n",
    "    plt.axis(\"off\")\n",
    "    plt.imshow(img.squeeze(), cmap=\"gray\")\n",
    "plt.show()"
   ]
  },
  {
   "cell_type": "markdown",
   "id": "98e609d9-1bb3-4c22-8bf1-5ccebe81526e",
   "metadata": {},
   "source": [
    "### Creating a Custom Dataset for your files\n",
    "一個自定義的 Dataset class 必須有以下三個function\n",
    "* __init__\n",
    "* __len__\n",
    "* __getitem__\n",
    "注意：FashionMNIST都存在```img_dir```資料夾之下，且其對應的label都存放在```annotations_files```這個csv檔案中\n",
    "以下為範例"
   ]
  },
  {
   "cell_type": "code",
   "execution_count": 6,
   "id": "1de67927-472b-453b-ba6e-acead89e0d95",
   "metadata": {},
   "outputs": [],
   "source": [
    "import os\n",
    "import pandas as pd\n",
    "from torchvision.io import read_image\n",
    "\n",
    "class CustomImageDataset(Dataset):\n",
    "    def __init__(self, annotations_file, img_dir, transform=None, target_transform=None):\n",
    "        self.img_labels = pd.read_csv(annotations_file)\n",
    "        self.img_dir = img_dir\n",
    "        self.transform = transform\n",
    "        self.target_transform = target_transform\n",
    "\n",
    "    def __len__(self):\n",
    "        return len(self.img_labels)\n",
    "\n",
    "    def __getitem__(self, idx):\n",
    "        img_path = os.path.join(self.img_dir, self.img_labels.iloc[idx, 0])\n",
    "        image = read_image(img_path)\n",
    "        label = self.img_labels.iloc[idx, 1]\n",
    "        if self.transform:\n",
    "            image = self.transform(image)\n",
    "        if self.target_transform:\n",
    "            label = self.target_transform(label)\n",
    "        return image, label"
   ]
  },
  {
   "cell_type": "code",
   "execution_count": null,
   "id": "cb6653f5-dbd1-4b24-9f0c-b4fb11e30003",
   "metadata": {},
   "outputs": [],
   "source": []
  }
 ],
 "metadata": {
  "kernelspec": {
   "display_name": "Python 3",
   "language": "python",
   "name": "python3"
  },
  "language_info": {
   "codemirror_mode": {
    "name": "ipython",
    "version": 3
   },
   "file_extension": ".py",
   "mimetype": "text/x-python",
   "name": "python",
   "nbconvert_exporter": "python",
   "pygments_lexer": "ipython3",
   "version": "3.6.13"
  }
 },
 "nbformat": 4,
 "nbformat_minor": 5
}
