{
 "cells": [
  {
   "cell_type": "code",
   "execution_count": 1,
   "id": "a8b861d9-e98a-4004-be1e-71ffaf392e95",
   "metadata": {},
   "outputs": [],
   "source": [
    "import torch\n",
    "import numpy as np"
   ]
  },
  {
   "cell_type": "markdown",
   "id": "96031c6b-5438-4cf4-b61f-53c097b08159",
   "metadata": {},
   "source": [
    "## Tensors"
   ]
  },
  {
   "cell_type": "markdown",
   "id": "6699b66d-df47-49fe-8a28-74cfdab38e46",
   "metadata": {},
   "source": [
    "### 初始化Tensor\n",
    "* 從python 2d list create tensor"
   ]
  },
  {
   "cell_type": "code",
   "execution_count": 2,
   "id": "b5676074-6ba3-4842-9cc8-6ed61fa91757",
   "metadata": {},
   "outputs": [
    {
     "name": "stdout",
     "output_type": "stream",
     "text": [
      "tensor([[1, 2],\n",
      "        [3, 4]])\n"
     ]
    }
   ],
   "source": [
    "data = [[1, 2], [3, 4]]\n",
    "data_t = torch.tensor(data)\n",
    "print(data_t)"
   ]
  },
  {
   "cell_type": "markdown",
   "id": "483d9a65-30c2-4f59-bda5-651ecf5dca54",
   "metadata": {},
   "source": [
    "* 從numpy array creat tensor"
   ]
  },
  {
   "cell_type": "code",
   "execution_count": 3,
   "id": "a1713143-7aca-483c-9c5c-7272dab4d3ca",
   "metadata": {},
   "outputs": [
    {
     "name": "stdout",
     "output_type": "stream",
     "text": [
      "tensor([[2, 3],\n",
      "        [4, 5]])\n"
     ]
    }
   ],
   "source": [
    "data = np.array([[2, 3], [4, 5]])\n",
    "data_t = torch.tensor(data)\n",
    "print(data_t)"
   ]
  },
  {
   "cell_type": "markdown",
   "id": "5089dd77-36f2-47d3-a2d4-31b3605ad3e2",
   "metadata": {},
   "source": [
    "* 從其他的tensor 新增 tensor \n",
    "會保留給定tensor的形狀"
   ]
  },
  {
   "cell_type": "code",
   "execution_count": 4,
   "id": "5c4572b3-5594-417a-8afb-d49de7849cbc",
   "metadata": {},
   "outputs": [
    {
     "name": "stdout",
     "output_type": "stream",
     "text": [
      "tensor([[1, 1],\n",
      "        [1, 1]])\n",
      "tensor([[0.6299, 0.0899],\n",
      "        [0.7387, 0.5356]])\n"
     ]
    }
   ],
   "source": [
    "x_ones = torch.ones_like(data_t)\n",
    "print(x_ones)\n",
    "x_rand = torch.rand_like(data_t, dtype=torch.float)\n",
    "print(x_rand)"
   ]
  },
  {
   "cell_type": "markdown",
   "id": "4367300d-fbd2-4d44-b00c-21a318769be2",
   "metadata": {},
   "source": [
    "* 給特定的shape然後依照不同的方法initialize tensor"
   ]
  },
  {
   "cell_type": "code",
   "execution_count": 5,
   "id": "ce71f34b-7c34-45e3-b44a-d3b789fb6675",
   "metadata": {},
   "outputs": [
    {
     "name": "stdout",
     "output_type": "stream",
     "text": [
      "Random tensor: \n",
      " tensor([[0.2686, 0.0754, 0.5652, 0.4928],\n",
      "        [0.2882, 0.4228, 0.7676, 0.0309],\n",
      "        [0.2299, 0.8265, 0.7700, 0.0830]]) \n",
      "\n",
      "Ones tensor: \n",
      " tensor([[1., 1., 1., 1.],\n",
      "        [1., 1., 1., 1.],\n",
      "        [1., 1., 1., 1.]]) \n",
      "\n",
      "Zeros tensor: \n",
      " tensor([[0., 0., 0., 0.],\n",
      "        [0., 0., 0., 0.],\n",
      "        [0., 0., 0., 0.]]) \n",
      "\n"
     ]
    }
   ],
   "source": [
    "shape = (3, 4, )\n",
    "rand_tensor = torch.rand(shape)\n",
    "print(f\"Random tensor: \\n {rand_tensor} \\n\")\n",
    "ones_tensor = torch.ones(shape)\n",
    "print(f\"Ones tensor: \\n {ones_tensor} \\n\")\n",
    "zeros_tensor = torch.zeros(shape)\n",
    "print(f\"Zeros tensor: \\n {zeros_tensor} \\n\")\n"
   ]
  },
  {
   "cell_type": "markdown",
   "id": "e126a24b-9136-41ad-bdf8-23a7cefcd5aa",
   "metadata": {},
   "source": [
    "* Attributes of Tensor"
   ]
  },
  {
   "cell_type": "code",
   "execution_count": 6,
   "id": "e07888a5-1d05-43c0-beb3-ffd8bd756655",
   "metadata": {},
   "outputs": [
    {
     "name": "stdout",
     "output_type": "stream",
     "text": [
      "Shape of tensor: torch.Size([3, 2])\n",
      "Datatype of tensor: torch.float32\n",
      "Device tensor is stored on cpu\n"
     ]
    }
   ],
   "source": [
    "tensor = torch.rand(3, 2)\n",
    "print(f\"Shape of tensor: {tensor.shape}\")\n",
    "print(f\"Datatype of tensor: {tensor.dtype}\")\n",
    "print(f\"Device tensor is stored on {tensor.device}\")"
   ]
  },
  {
   "cell_type": "markdown",
   "id": "a759430a-1a14-4518-80d1-206f5a609510",
   "metadata": {},
   "source": [
    "### Tensor 上的操作\n",
    "* 更多詳細可以參考tensor api https://pytorch.org/docs/stable/torch.html\n",
    "* 如果你的電腦有GPU 可透過以下指令將tensor移動到GPU上\n"
   ]
  },
  {
   "cell_type": "code",
   "execution_count": 7,
   "id": "fd996d8b-cf31-4ff4-931e-d5de9d8ea33b",
   "metadata": {},
   "outputs": [],
   "source": [
    "if torch.cuda.is_available():\n",
    "    tensor = tensor.to('cuda')"
   ]
  },
  {
   "cell_type": "markdown",
   "id": "d2518703-182c-4504-9ff2-c626bf6ad825",
   "metadata": {},
   "source": [
    "* 標準的類似numpy 的操作方法"
   ]
  },
  {
   "cell_type": "code",
   "execution_count": 8,
   "id": "42f266ab-4b76-46b4-9b31-8a39b7e443ed",
   "metadata": {},
   "outputs": [
    {
     "name": "stdout",
     "output_type": "stream",
     "text": [
      "first row:: tensor([1., 1., 1., 1.]) \n",
      "\n",
      "First column: tensor([1., 1., 1.]) \n",
      "\n",
      "Last column: tensor([1., 1., 1.])\n",
      "\n",
      "tensor([[1., 3., 1., 1.],\n",
      "        [1., 3., 1., 1.],\n",
      "        [1., 3., 1., 1.]])\n"
     ]
    }
   ],
   "source": [
    "tensor = torch.ones(3, 4)\n",
    "print(f\"first row:: {tensor[0]} \\n\")\n",
    "print(f\"First column: {tensor[:, 0]} \\n\")\n",
    "print(f\"Last column: {tensor[:, -1]}\\n\")\n",
    "tensor[:, 1] = 3\n",
    "print(tensor)"
   ]
  },
  {
   "cell_type": "markdown",
   "id": "7371b778-2a7d-4e97-9839-313f8ccf09c2",
   "metadata": {},
   "source": [
    "* tensor concatenate"
   ]
  },
  {
   "cell_type": "code",
   "execution_count": 9,
   "id": "946b2d36-597c-47ee-b8d7-45afde81f58b",
   "metadata": {},
   "outputs": [
    {
     "name": "stdout",
     "output_type": "stream",
     "text": [
      "tensor([[1., 3., 1., 1., 1., 3., 1., 1., 3., 1.],\n",
      "        [1., 3., 1., 1., 1., 3., 1., 1., 3., 1.],\n",
      "        [1., 3., 1., 1., 1., 3., 1., 1., 3., 1.]])\n"
     ]
    }
   ],
   "source": [
    "t1 = torch.cat([tensor, tensor, tensor[:, 1:3]], dim=1)\n",
    "print(t1)"
   ]
  },
  {
   "cell_type": "markdown",
   "id": "12560aa9-6290-4215-b938-364d13e1d828",
   "metadata": {},
   "source": [
    "* 算術運算"
   ]
  },
  {
   "cell_type": "code",
   "execution_count": 10,
   "id": "5d8e5d79-999d-46bc-94ec-a2245c8aed37",
   "metadata": {},
   "outputs": [
    {
     "name": "stdout",
     "output_type": "stream",
     "text": [
      "y1: tensor([[12., 12., 12.],\n",
      "        [12., 12., 12.],\n",
      "        [12., 12., 12.]])\n",
      "\n",
      "y2: tensor([[12., 12., 12.],\n",
      "        [12., 12., 12.],\n",
      "        [12., 12., 12.]])\n",
      "\n",
      "y3(before): tensor([[0.4798, 0.1655, 0.7053, 0.1025],\n",
      "        [0.3396, 0.7990, 0.9651, 0.9546],\n",
      "        [0.1785, 0.1438, 0.5225, 0.4650]])\n",
      "\n",
      "y3(after): tensor([[12., 12., 12.],\n",
      "        [12., 12., 12.],\n",
      "        [12., 12., 12.]])\n",
      "\n"
     ]
    }
   ],
   "source": [
    "# T*(T')\n",
    "y1 = tensor @ tensor.T\n",
    "y2 = tensor.matmul(tensor.T)\n",
    "print(f\"y1: {y1}\\n\")\n",
    "print(f\"y2: {y2}\\n\")\n",
    "\n",
    "\n",
    "y3 = torch.rand_like(tensor)\n",
    "print(f\"y3(before): {y3}\\n\")\n",
    "torch.matmul(tensor, tensor.T, out=y3)\n",
    "print(f\"y3(after): {y3}\\n\")\n",
    "\n"
   ]
  },
  {
   "cell_type": "markdown",
   "id": "d9f90bc8-8c5f-4f14-a045-1b19ce4cbd0b",
   "metadata": {},
   "source": [
    "* single-element tensors"
   ]
  },
  {
   "cell_type": "code",
   "execution_count": 11,
   "id": "5c33d33e-a81d-4f32-a996-eb545bb0371c",
   "metadata": {},
   "outputs": [
    {
     "name": "stdout",
     "output_type": "stream",
     "text": [
      "18.0 <class 'float'>\n"
     ]
    }
   ],
   "source": [
    "agg = tensor.sum()\n",
    "agg_item = agg.item()\n",
    "print(agg_item, type(agg_item))"
   ]
  },
  {
   "cell_type": "markdown",
   "id": "2baa3b45-0238-46e1-ab2e-794579ca3c2b",
   "metadata": {},
   "source": [
    "* In-place operations"
   ]
  },
  {
   "cell_type": "code",
   "execution_count": 12,
   "id": "ee8c0768-f673-4fd9-aeee-2d3265669af0",
   "metadata": {},
   "outputs": [
    {
     "name": "stdout",
     "output_type": "stream",
     "text": [
      "tensor: tensor([[1., 3., 1., 1.],\n",
      "        [1., 3., 1., 1.],\n",
      "        [1., 3., 1., 1.]])\n",
      "\n",
      "tensor([[6., 8., 6., 6.],\n",
      "        [6., 8., 6., 6.],\n",
      "        [6., 8., 6., 6.]])\n",
      "tensor([[7., 9., 7., 7.],\n",
      "        [7., 9., 7., 7.],\n",
      "        [7., 9., 7., 7.]])\n",
      "tensor([[0.3407, 0.4076, 0.5954, 0.2755],\n",
      "        [0.5551, 0.3990, 0.2661, 0.2119],\n",
      "        [0.0126, 0.3577, 0.3959, 0.9510]])\n",
      "tensor([[7.3407, 9.4076, 7.5954, 7.2755],\n",
      "        [7.5551, 9.3990, 7.2661, 7.2119],\n",
      "        [7.0126, 9.3577, 7.3959, 7.9510]])\n"
     ]
    }
   ],
   "source": [
    "print(f\"tensor: {tensor}\\n\")\n",
    "tensor.add_(5)\n",
    "print(tensor)\n",
    "t = torch.ones(tensor.shape)\n",
    "tensor.add_(t)\n",
    "print(tensor)\n",
    "t = torch.rand(tensor.shape)\n",
    "print(t)\n",
    "tensor.add_(t)\n",
    "print(tensor)"
   ]
  },
  {
   "cell_type": "markdown",
   "id": "8eabd407-92c5-4a1b-b5ee-71613a341f8c",
   "metadata": {},
   "source": [
    "### 與numpy的交互\n",
    "* tensor to numpy array"
   ]
  },
  {
   "cell_type": "code",
   "execution_count": 13,
   "id": "fd2cf367-5eb5-447d-92ee-2f6a770818a7",
   "metadata": {},
   "outputs": [
    {
     "name": "stdout",
     "output_type": "stream",
     "text": [
      "t = tensor([[1., 1., 1.],\n",
      "        [1., 1., 1.]])\n",
      "\n",
      "n = [[1. 1. 1.]\n",
      " [1. 1. 1.]]\n",
      "\n"
     ]
    }
   ],
   "source": [
    "t = torch.ones(2, 3)\n",
    "print(f\"t = {t}\\n\")\n",
    "n = t.numpy()\n",
    "print(f\"n = {n}\\n\")"
   ]
  },
  {
   "cell_type": "markdown",
   "id": "75b134e6-52f9-430f-89c9-b83ab5713d4d",
   "metadata": {},
   "source": [
    "* 改變tensor 也會一併改變numpy array，反之亦然"
   ]
  },
  {
   "cell_type": "code",
   "execution_count": 14,
   "id": "b1e50fb6-d066-4a27-83d6-d6d2e75727bf",
   "metadata": {},
   "outputs": [
    {
     "name": "stdout",
     "output_type": "stream",
     "text": [
      "t = tensor([[4., 4., 4.],\n",
      "        [4., 4., 4.]])\n",
      "\n",
      "n = [[4. 4. 4.]\n",
      " [4. 4. 4.]]\n",
      "\n",
      "t = tensor([[4.0000, 4.0000, 4.0000],\n",
      "        [4.0000, 1.3000, 4.0000]])\n",
      "\n",
      "n = [[4.  4.  4. ]\n",
      " [4.  1.3 4. ]]\n",
      "\n"
     ]
    }
   ],
   "source": [
    "t.add_(3) # 改變tensor\n",
    "print(f\"t = {t}\\n\")\n",
    "print(f\"n = {n}\\n\")\n",
    "n[1, 1] = 1.3  # 改變numpy array\n",
    "print(f\"t = {t}\\n\")\n",
    "print(f\"n = {n}\\n\")"
   ]
  },
  {
   "cell_type": "markdown",
   "id": "3df1f203-86e1-400b-bb42-c19b840781c1",
   "metadata": {},
   "source": [
    "* Numpy array to tensor"
   ]
  },
  {
   "cell_type": "code",
   "execution_count": 15,
   "id": "51c09634-a0e1-457a-bbc7-8fe27fa3a175",
   "metadata": {},
   "outputs": [
    {
     "name": "stdout",
     "output_type": "stream",
     "text": [
      "n = [[0.71294165 0.92864082 0.05406132 0.03826313]\n",
      " [0.74717149 0.69086635 0.66446417 0.7531469 ]\n",
      " [0.32198239 0.1539131  0.94912415 0.33370072]]\n",
      "\n",
      "t = tensor([[0.7129, 0.9286, 0.0541, 0.0383],\n",
      "        [0.7472, 0.6909, 0.6645, 0.7531],\n",
      "        [0.3220, 0.1539, 0.9491, 0.3337]], dtype=torch.float64)\n",
      "\n"
     ]
    }
   ],
   "source": [
    "n = np.random.rand(3, 4)\n",
    "print(f\"n = {n}\\n\")\n",
    "t = torch.from_numpy(n)\n",
    "print(f\"t = {t}\\n\")"
   ]
  },
  {
   "cell_type": "code",
   "execution_count": 16,
   "id": "9cde645d-e1b7-4521-b3d6-6209dc9186b5",
   "metadata": {},
   "outputs": [
    {
     "name": "stdout",
     "output_type": "stream",
     "text": [
      "t = tensor([[3.7129, 3.9286, 3.0541, 3.0383],\n",
      "        [3.7472, 3.6909, 3.6645, 3.7531],\n",
      "        [3.3220, 3.1539, 3.9491, 3.3337]], dtype=torch.float64)\n",
      "\n",
      "n = [[3.71294165 3.92864082 3.05406132 3.03826313]\n",
      " [3.74717149 3.69086635 3.66446417 3.7531469 ]\n",
      " [3.32198239 3.1539131  3.94912415 3.33370072]]\n",
      "\n",
      "t = tensor([[3.7129, 3.9286, 3.0541, 3.0383],\n",
      "        [3.7472, 1.3000, 3.6645, 3.7531],\n",
      "        [3.3220, 3.1539, 3.9491, 3.3337]], dtype=torch.float64)\n",
      "\n",
      "n = [[3.71294165 3.92864082 3.05406132 3.03826313]\n",
      " [3.74717149 1.3        3.66446417 3.7531469 ]\n",
      " [3.32198239 3.1539131  3.94912415 3.33370072]]\n",
      "\n"
     ]
    }
   ],
   "source": [
    "t.add_(3) # 改變tensor\n",
    "print(f\"t = {t}\\n\")\n",
    "print(f\"n = {n}\\n\")\n",
    "n[1, 1] = 1.3  # 改變numpy array\n",
    "print(f\"t = {t}\\n\")\n",
    "print(f\"n = {n}\\n\")"
   ]
  }
 ],
 "metadata": {
  "kernelspec": {
   "display_name": "Python 3",
   "language": "python",
   "name": "python3"
  },
  "language_info": {
   "codemirror_mode": {
    "name": "ipython",
    "version": 3
   },
   "file_extension": ".py",
   "mimetype": "text/x-python",
   "name": "python",
   "nbconvert_exporter": "python",
   "pygments_lexer": "ipython3",
   "version": "3.6.13"
  }
 },
 "nbformat": 4,
 "nbformat_minor": 5
}
